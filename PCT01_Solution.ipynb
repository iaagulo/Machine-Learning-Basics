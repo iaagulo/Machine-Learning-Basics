{
  "nbformat": 4,
  "nbformat_minor": 0,
  "metadata": {
    "colab": {
      "provenance": [],
      "authorship_tag": "ABX9TyMfmDFgY+8B6KrpZoMdwkKZ",
      "include_colab_link": true
    },
    "kernelspec": {
      "name": "python3",
      "display_name": "Python 3"
    },
    "language_info": {
      "name": "python"
    }
  },
  "cells": [
    {
      "cell_type": "markdown",
      "metadata": {
        "id": "view-in-github",
        "colab_type": "text"
      },
      "source": [
        "<a href=\"https://colab.research.google.com/github/iaagulo/Machine-Learning-Basics/blob/main/PCT01_Solution.ipynb\" target=\"_parent\"><img src=\"https://colab.research.google.com/assets/colab-badge.svg\" alt=\"Open In Colab\"/></a>"
      ]
    },
    {
      "cell_type": "markdown",
      "source": [
        "#Practical Coding Task 1\n",
        "Consider this non-linear relation between two variables, $x$ and $y$."
      ],
      "metadata": {
        "id": "JS92MCoYsbV1"
      }
    },
    {
      "cell_type": "code",
      "source": [
        "import numpy as np\n",
        "import matplotlib.pyplot as plt\n",
        "from sklearn.metrics import mean_squared_error\n",
        "\n",
        "coeff = [-1,22,-3]\n",
        "\n",
        "x = np.linspace(0,5,100)\n",
        "y = addrandomfluctuations_nonlinear(x,coeff,8)\n",
        "plt.plot(x,y,'bx')\n",
        "plt.xlabel('x')\n",
        "plt.ylabel('y')\n",
        "plt.grid()"
      ],
      "metadata": {
        "colab": {
          "base_uri": "https://localhost:8080/",
          "height": 279
        },
        "id": "xUaGoEB_sscd",
        "outputId": "11fb3c5b-fef4-465d-854b-2fd4daae3150"
      },
      "execution_count": null,
      "outputs": [
        {
          "output_type": "display_data",
          "data": {
            "text/plain": [
              "<Figure size 432x288 with 1 Axes>"
            ],
            "image/png": "[encoded data removed]"
          },
          "metadata": {
            "needs_background": "light"
          }
        }
      ]
    },
    {
      "cell_type": "markdown",
      "source": [
        "*Figure 1.1. A polynomial data set. The computer has no idea of the order of the polynomial.*"
      ],
      "metadata": {
        "id": "x2kO4jsQvdsf"
      }
    },
    {
      "cell_type": "markdown",
      "source": [
        "##1.1 Using the polyfit function"
      ],
      "metadata": {
        "id": "GSCMBlGuZ3DJ"
      }
    },
    {
      "cell_type": "markdown",
      "source": [
        "The [polyfit()](https://numpy.org/doc/stable/reference/generated/numpy.polyfit.html) function is Python's built-in function that solves for the coefficients of the given polynomial. The first two input parameters are the x and y data sets. The third input parameter is the order of the polynomial. The output $p$ are the solved coefficients, beginning with the coefficient of $x^0$. Compare $p$ with the given coefficients? Are they as expected?"
      ],
      "metadata": {
        "id": "jQFHASSTvoLj"
      }
    },
    {
      "cell_type": "code",
      "source": [
        "p = np.polyfit(x,y,len(coeff)-1)\n",
        "print(p)\n",
        "\n",
        "ynlr = p[2] + p[1]*x + p[0]*x**2\n",
        "plt.plot(x,y,'bx')\n",
        "plt.plot(x,ynlr,'r')\n",
        "plt.xlabel('x')\n",
        "plt.ylabel('y')\n",
        "plt.grid()"
      ],
      "metadata": {
        "colab": {
          "base_uri": "https://localhost:8080/",
          "height": 296
        },
        "id": "puOc-U888bP1",
        "outputId": "6c66629f-cef3-4b4c-9686-fbb43911c97a"
      },
      "execution_count": null,
      "outputs": [
        {
          "output_type": "stream",
          "name": "stdout",
          "text": [
            "[-2.95015729 21.59567107 -0.25013382]\n"
          ]
        },
        {
          "output_type": "display_data",
          "data": {
            "text/plain": [
              "<Figure size 432x288 with 1 Axes>"
            ],
            "image/png": "[encoded data removed]"
          },
          "metadata": {
            "needs_background": "light"
          }
        }
      ]
    },
    {
      "cell_type": "markdown",
      "source": [
        "*Figure 1.2. Predicted best fit line using the nonlinear regression algorithm of Python.*"
      ],
      "metadata": {
        "id": "Cv7Rh-daA5FB"
      }
    },
    {
      "cell_type": "markdown",
      "source": [
        "###**Task 1. Solve for the mean square error between the actual result and best fit line. Display the result.**"
      ],
      "metadata": {
        "id": "FIeN_2enMvOr"
      }
    },
    {
      "cell_type": "code",
      "source": [
        "## Write your code here\n",
        "MSE = (np.abs(np.power(y - ynlr,2))).mean()\n",
        "MSE1 = mean_squared_error(y,ynlr)\n",
        "print(MSE)\n",
        "print(MSE1)"
      ],
      "metadata": {
        "colab": {
          "base_uri": "https://localhost:8080/"
        },
        "id": "JO_hm3q9M3Hr",
        "outputId": "dec74409-df88-4aa7-8fc3-046d963a4d2c"
      },
      "execution_count": null,
      "outputs": [
        {
          "output_type": "stream",
          "name": "stdout",
          "text": [
            "5.399305175142972\n",
            "5.399305175142972\n"
          ]
        }
      ]
    },
    {
      "cell_type": "markdown",
      "source": [
        "##1.2 How a computer determines the best fit line"
      ],
      "metadata": {
        "id": "erTDRccbaCFU"
      }
    },
    {
      "cell_type": "markdown",
      "source": [
        "I've already arranged almost everything for you to try out. The specific instructions are in Task 4. What you need to change are the:<br>\n",
        "1. The [activation function](https://www.tensorflow.org/api_docs/python/tf/keras/activations) in the first *tf.keras.layers.Dense* layer\n",
        "2. The learning rate of the Adam optimizer\n",
        "3. The number of epochs<br>"
      ],
      "metadata": {
        "id": "NBq-nIlj8bof"
      }
    },
    {
      "cell_type": "markdown",
      "source": [
        "At this time, you don't need to fully understand the [activation function](https://www.tensorflow.org/api_docs/python/tf/keras/activations). You're welcome to read about what these various activations do, but you'll also learn about them as well as the various [model optimizers](https://www.tensorflow.org/api_docs/python/tf/keras/optimizers) in a couple of weeks. Just try out the various activation functions and see which one works.<br>\n",
        "This short code is a machine learning model that will solve for the best fit line of the given data $x$ and $y$. "
      ],
      "metadata": {
        "id": "4wIaWflmWXnb"
      }
    },
    {
      "cell_type": "code",
      "source": [
        "import tensorflow as tf\n",
        "from tensorflow import keras\n",
        "from tensorflow.keras.optimizers import Adam\n",
        "\n",
        "model = tf.keras.Sequential([\n",
        "    tf.keras.layers.Dense(128, activation='tanh', input_shape=[1], input_dim=5),\n",
        "    tf.keras.layers.Dense(1, activation='linear')\n",
        "    ])\n",
        "model.compile(optimizer = Adam(learning_rate=0.07), loss = 'mean_squared_error')\n",
        "history = model.fit(x,y, epochs = 200, verbose = 0)\n",
        "plt.plot(history.history[\"loss\"])\n",
        "plt.title(\"model loss\")\n",
        "plt.xlabel(\"epoch\")\n",
        "plt.ylabel(\"loss\")\n",
        "plt.legend([\"loss\"],loc=\"upper right\")\n",
        "plt.show()"
      ],
      "metadata": {
        "colab": {
          "base_uri": "https://localhost:8080/",
          "height": 295
        },
        "id": "gXmY1UIEv0LZ",
        "outputId": "2f7e95eb-8a24-4049-ea35-53fa7f60682a"
      },
      "execution_count": null,
      "outputs": [
        {
          "output_type": "display_data",
          "data": {
            "text/plain": [
              "<Figure size 432x288 with 1 Axes>"
            ],
            "image/png": "[encoded data removed]"
          },
          "metadata": {
            "needs_background": "light"
          }
        }
      ]
    },
    {
      "cell_type": "markdown",
      "source": [
        "Figure 1.3. Training progress of the model."
      ],
      "metadata": {
        "id": "tLIOQ8LIyFUx"
      }
    },
    {
      "cell_type": "markdown",
      "source": [
        "###**Task 2. Plot and compare the actual data set with the predicted data values.**"
      ],
      "metadata": {
        "id": "xCgI0lGqW9ky"
      }
    },
    {
      "cell_type": "code",
      "source": [
        "ypred = model.predict([x])\n",
        "\n",
        "## Write your code here\n",
        "plt.plot(x,y,'bx')\n",
        "plt.plot(x,ypred,'r',linewidth=3)\n",
        "plt.xlabel('x')\n",
        "plt.ylabel('y')\n",
        "plt.grid()"
      ],
      "metadata": {
        "colab": {
          "base_uri": "https://localhost:8080/",
          "height": 296
        },
        "id": "7sXCZJRpA-n2",
        "outputId": "74b4c037-8cc4-40fc-8570-c4de7a211dd5"
      },
      "execution_count": null,
      "outputs": [
        {
          "output_type": "stream",
          "name": "stdout",
          "text": [
            "4/4 [==============================] - 0s 3ms/step\n"
          ]
        },
        {
          "output_type": "display_data",
          "data": {
            "text/plain": [
              "<Figure size 432x288 with 1 Axes>"
            ],
            "image/png": "[encoded data removed]"
          },
          "metadata": {
            "needs_background": "light"
          }
        }
      ]
    },
    {
      "cell_type": "markdown",
      "source": [
        "###**Task 3. Solve for the mean square error between the actual result and best fit line. Display the result.**\n",
        "\n"
      ],
      "metadata": {
        "id": "J23M3mxe3aka"
      }
    },
    {
      "cell_type": "code",
      "source": [
        "MSE = (np.abs(np.power(y - ypred,2))).mean()\n",
        "MSE1 = mean_squared_error(y,ypred)\n",
        "print(MSE)\n",
        "print(MSE1)"
      ],
      "metadata": {
        "colab": {
          "base_uri": "https://localhost:8080/"
        },
        "id": "BRlgiM_j1VtL",
        "outputId": "ff156248-b361-4bc9-9045-f3bd9c580c91"
      },
      "execution_count": null,
      "outputs": [
        {
          "output_type": "stream",
          "name": "stdout",
          "text": [
            "252.07932027409956\n",
            "6.975236820070823\n"
          ]
        }
      ]
    },
    {
      "cell_type": "markdown",
      "source": [
        "###**Task 4. Find out which activation function gives the best best-fit line to the data set by changing the value of the activation function in the first dense layer. Then determine the learning_rate that gives the best best-fit line.**\n",
        "It may not be necessary to change the number of epochs, but you may change them if you like just to see what happens."
      ],
      "metadata": {
        "id": "wK9OfBre2BOn"
      }
    },
    {
      "cell_type": "markdown",
      "source": [
        "###**Task 5 (Optional). You may play around with this program by changing the coefficients and the fluctuation size to see what happens. Which training function will give you the least MSE?**\n",
        "You can also change the number of layers, if you like to play around with that. Just copy the first dense layer and paste it as a second or third or fourth layer. Remove the *input_shape* and *input_dim* options after you paste the new command lines. Don't forget to put a comma at the end of each line."
      ],
      "metadata": {
        "id": "jMrAiLP-3Ja9"
      }
    },
    {
      "cell_type": "markdown",
      "source": [
        "#Functions to be used"
      ],
      "metadata": {
        "id": "5O7gGoYGIR96"
      }
    },
    {
      "cell_type": "code",
      "source": [
        "def addrandomfluctuations_nonlinear(x,coeff,fluctuationsize):\n",
        "  import random\n",
        "\n",
        "  sum = 0\n",
        "  for j in range(len(coeff)):\n",
        "    sum += coeff[j]*np.power(x,j)\n",
        "\n",
        "  yrand = np.zeros(len(x))\n",
        "  for i in range(len(x)):\n",
        "    yrand[i] = sum[i] + fluctuationsize*(random.random()-0.5)\n",
        "  \n",
        "  return yrand"
      ],
      "metadata": {
        "id": "uhcrXwpbIOqg"
      },
      "execution_count": null,
      "outputs": []
    }
  ]
}