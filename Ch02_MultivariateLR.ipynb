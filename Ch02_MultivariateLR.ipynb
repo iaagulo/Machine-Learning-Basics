{
  "nbformat": 4,
  "nbformat_minor": 0,
  "metadata": {
    "colab": {
      "provenance": [],
      "collapsed_sections": [
        "V5bg3t7Fo1KK",
        "DdptsfX-ogjG",
        "dw23W2oKNY7f",
        "UL6cRnaANghG",
        "tXmwfBwHNqGj",
        "Bb4Kno2cN1mu",
        "LFd1sLGfL-rU",
        "nvwNB5RtOIKb",
        "-ANhRAFFiZ1c"
      ],
      "authorship_tag": "ABX9TyPxx53FafsYnC+WxKaw+ptU",
      "include_colab_link": true
    },
    "kernelspec": {
      "name": "python3",
      "display_name": "Python 3"
    },
    "language_info": {
      "name": "python"
    }
  },
  "cells": [
    {
      "cell_type": "markdown",
      "metadata": {
        "id": "view-in-github",
        "colab_type": "text"
      },
      "source": [
        "<a href=\"https://colab.research.google.com/github/iaagulo/Machine-Learning-Basics/blob/main/Ch02_MultivariateLR.ipynb\" target=\"_parent\"><img src=\"https://colab.research.google.com/assets/colab-badge.svg\" alt=\"Open In Colab\"/></a>"
      ]
    },
    {
      "cell_type": "markdown",
      "source": [
        "#**2.0 Gradient Descent**"
      ],
      "metadata": {
        "id": "0X-yd0G9oatf"
      }
    },
    {
      "cell_type": "markdown",
      "source": [
        "##**2.5 Functions to be used for this chapter**"
      ],
      "metadata": {
        "id": "V5bg3t7Fo1KK"
      }
    },
    {
      "cell_type": "markdown",
      "source": [
        "This function computes for the cost function, $J(\\theta_0,\\theta_1,...,\\theta_n)$ with $x$, $y$, and $\\theta$ as input variables and $Jcost$ as the output variable."
      ],
      "metadata": {
        "id": "4hy2VMIqLTSN"
      }
    },
    {
      "cell_type": "code",
      "source": [
        "def costfunction(x,y,theta):\n",
        "  m = len(y)\n",
        "  Jcost = (1/(2*m))*np.sum(np.power((np.dot(x,theta)-y.reshape(m,1)),2))\n",
        "  return Jcost"
      ],
      "metadata": {
        "id": "7a_qN-MFofP4"
      },
      "execution_count": 2,
      "outputs": []
    },
    {
      "cell_type": "markdown",
      "source": [
        "This function computes for the new values of the parameter $\\theta$ using the gradient descent method."
      ],
      "metadata": {
        "id": "qF9COZfnLnW_"
      }
    },
    {
      "cell_type": "code",
      "source": [
        "def gradient_descent(x,y,theta,a,epoch):\n",
        "  J = np.zeros(epochs,dtype=float)\n",
        "  m = len(y)\n",
        "  for k in range(epoch):\n",
        "    grad_theta = (1/m)*np.dot(np.transpose(x),((np.dot(x,theta)-y.reshape(m,1))))\n",
        "    theta = theta - a*grad_theta\n",
        "    J[k] = costfunction(x,y,theta)\n",
        "  return grad_theta,J"
      ],
      "metadata": {
        "id": "6AC0rkdfZcml"
      },
      "execution_count": 3,
      "outputs": []
    },
    {
      "cell_type": "markdown",
      "source": [
        "This function rescales the elements of the data set."
      ],
      "metadata": {
        "id": "O80MR0RAPeYD"
      }
    },
    {
      "cell_type": "code",
      "source": [
        "def FeatureScale(X):\n",
        "  Xmin = np.mean(X)\n",
        "  Xstd = np.std(X)\n",
        "  Xfeat = (X - Xmin)/Xstd\n",
        "  return Xfeat"
      ],
      "metadata": {
        "id": "dgif_zETPivu"
      },
      "execution_count": 4,
      "outputs": []
    },
    {
      "cell_type": "markdown",
      "source": [
        "##**2.4 Multivariate Linear Regression**"
      ],
      "metadata": {
        "id": "DdptsfX-ogjG"
      }
    },
    {
      "cell_type": "markdown",
      "source": [
        "####**2.4.1 Importing the modules**"
      ],
      "metadata": {
        "id": "_xf4gsFeNRN0"
      }
    },
    {
      "cell_type": "markdown",
      "source": [
        "We first import the necessary modules."
      ],
      "metadata": {
        "id": "toRpM_nmNKzX"
      }
    },
    {
      "cell_type": "code",
      "source": [
        "import numpy as np\n",
        "import matplotlib.pyplot as plt\n",
        "\n",
        "import pandas as pd\n",
        "\n",
        "from sklearn import linear_model"
      ],
      "metadata": {
        "id": "yP6Uod45eaiV"
      },
      "execution_count": 5,
      "outputs": []
    },
    {
      "cell_type": "markdown",
      "source": [
        "####**2.4.2 Importing the Data**"
      ],
      "metadata": {
        "id": "dw23W2oKNY7f"
      }
    },
    {
      "cell_type": "markdown",
      "source": [
        "The data that we need is stored in the Google Drive. So, we need to allow Google Colab to access the data."
      ],
      "metadata": {
        "id": "NGKjPCR3ea0s"
      }
    },
    {
      "cell_type": "code",
      "source": [
        "from google.colab import drive\n",
        "drive.mount('/content/gdrive/', force_remount=True)"
      ],
      "metadata": {
        "colab": {
          "base_uri": "https://localhost:8080/"
        },
        "id": "9KCoMkjybXCv",
        "outputId": "9629d08f-9eaa-4234-d8d0-2304fb54018e"
      },
      "execution_count": 6,
      "outputs": [
        {
          "output_type": "stream",
          "name": "stdout",
          "text": [
            "Mounted at /content/gdrive/\n"
          ]
        }
      ]
    },
    {
      "cell_type": "code",
      "source": [
        "ls"
      ],
      "metadata": {
        "colab": {
          "base_uri": "https://localhost:8080/"
        },
        "id": "RcmnXeDubhZx",
        "outputId": "98f9a591-7763-46d3-d161-a09154ae6191"
      },
      "execution_count": 7,
      "outputs": [
        {
          "output_type": "stream",
          "name": "stdout",
          "text": [
            "\u001b[0m\u001b[01;34mgdrive\u001b[0m/  \u001b[01;34msample_data\u001b[0m/\n"
          ]
        }
      ]
    },
    {
      "cell_type": "code",
      "source": [
        "cd gdrive/MyDrive/'Colab Notebooks'/Book"
      ],
      "metadata": {
        "colab": {
          "base_uri": "https://localhost:8080/"
        },
        "id": "SX4d4OPHbkZv",
        "outputId": "99a56710-8683-4776-c319-818a9dc8a601"
      },
      "execution_count": 8,
      "outputs": [
        {
          "output_type": "stream",
          "name": "stdout",
          "text": [
            "/content/gdrive/MyDrive/Colab Notebooks/Book\n"
          ]
        }
      ]
    },
    {
      "cell_type": "code",
      "source": [
        "ls"
      ],
      "metadata": {
        "colab": {
          "base_uri": "https://localhost:8080/"
        },
        "id": "pjK8uKfHbmog",
        "outputId": "dbd9c39d-34fe-4868-b842-c7839178d449"
      },
      "execution_count": 9,
      "outputs": [
        {
          "output_type": "stream",
          "name": "stdout",
          "text": [
            "carbig.csv                            Ch02_MultivariateLR.ipynb\n",
            "Ch01_Intro_to_Machine_Learning.ipynb  PCT01.ipynb\n",
            "Ch02_Gradient_Descent.ipynb           PCT01_Solution.ipynb\n"
          ]
        }
      ]
    },
    {
      "cell_type": "markdown",
      "source": [
        "####**2.4.3 Removal of non-numerical elements**"
      ],
      "metadata": {
        "id": "UL6cRnaANghG"
      }
    },
    {
      "cell_type": "markdown",
      "source": [
        "We now read the data using the pandas module."
      ],
      "metadata": {
        "id": "AL5PIOo_eJZ-"
      }
    },
    {
      "cell_type": "code",
      "source": [
        " data = pd.read_csv('carbig.csv', index_col=None)"
      ],
      "metadata": {
        "id": "7JqLMNQ9b_-6"
      },
      "execution_count": 10,
      "outputs": []
    },
    {
      "cell_type": "markdown",
      "source": [
        "The data shown describes how the miles per gallon (MPG) relates to the various characteristics of a car, such as the number of cylinders, the displacement (cubic in.), the horsepower, the weight (lbs.), and the acceleration (from 0 to 60 mph in seconds). Thus, each of these characteristics are the independent variable and the MPG is the dependent variable. We now have a data set with multiple features, and these five features dictate how the car performance in terms of MPG is.<br>\n",
        "This command displays the first five rows of the data set."
      ],
      "metadata": {
        "id": "54a7Uv5Fp8vt"
      }
    },
    {
      "cell_type": "code",
      "source": [
        " data.head()"
      ],
      "metadata": {
        "colab": {
          "base_uri": "https://localhost:8080/",
          "height": 206
        },
        "id": "ZkH7AyPxqB9O",
        "outputId": "2f3cad41-80d6-41be-d838-788edad68ae5"
      },
      "execution_count": 11,
      "outputs": [
        {
          "output_type": "execute_result",
          "data": {
            "text/plain": [
              "                                  Model   Origin   MPG  Cylinders  \\\n",
              "0  chevrolet chevelle malibu             USA      18.0          8   \n",
              "1  buick skylark 320                     USA      15.0          8   \n",
              "2  plymouth satellite                    USA      18.0          8   \n",
              "3  amc rebel sst                         USA      16.0          8   \n",
              "4  ford torino                           USA      17.0          8   \n",
              "\n",
              "   Displacement  Horsepower  Weight  Acceleration  Model_Year   cyl4      org  \\\n",
              "0         307.0       130.0    3504          12.0          70  Other  USA       \n",
              "1         350.0       165.0    3693          11.5          70  Other  USA       \n",
              "2         318.0       150.0    3436          11.0          70  Other  USA       \n",
              "3         304.0       150.0    3433          12.0          70  Other  USA       \n",
              "4         302.0       140.0    3449          10.5          70  Other  USA       \n",
              "\n",
              "    when            Mfg  \n",
              "0  Early  chevrolet      \n",
              "1  Early  buick          \n",
              "2  Early  plymouth       \n",
              "3  Early  amc            \n",
              "4  Early  ford           "
            ],
            "text/html": [
              "\n",
              "  <div id=\"df-cd414417-3d27-42ef-bf21-e61474ce7036\">\n",
              "    <div class=\"colab-df-container\">\n",
              "      <div>\n",
              "<style scoped>\n",
              "    .dataframe tbody tr th:only-of-type {\n",
              "        vertical-align: middle;\n",
              "    }\n",
              "\n",
              "    .dataframe tbody tr th {\n",
              "        vertical-align: top;\n",
              "    }\n",
              "\n",
              "    .dataframe thead th {\n",
              "        text-align: right;\n",
              "    }\n",
              "</style>\n",
              "<table border=\"1\" class=\"dataframe\">\n",
              "  <thead>\n",
              "    <tr style=\"text-align: right;\">\n",
              "      <th></th>\n",
              "      <th>Model</th>\n",
              "      <th>Origin</th>\n",
              "      <th>MPG</th>\n",
              "      <th>Cylinders</th>\n",
              "      <th>Displacement</th>\n",
              "      <th>Horsepower</th>\n",
              "      <th>Weight</th>\n",
              "      <th>Acceleration</th>\n",
              "      <th>Model_Year</th>\n",
              "      <th>cyl4</th>\n",
              "      <th>org</th>\n",
              "      <th>when</th>\n",
              "      <th>Mfg</th>\n",
              "    </tr>\n",
              "  </thead>\n",
              "  <tbody>\n",
              "    <tr>\n",
              "      <th>0</th>\n",
              "      <td>chevrolet chevelle malibu</td>\n",
              "      <td>USA</td>\n",
              "      <td>18.0</td>\n",
              "      <td>8</td>\n",
              "      <td>307.0</td>\n",
              "      <td>130.0</td>\n",
              "      <td>3504</td>\n",
              "      <td>12.0</td>\n",
              "      <td>70</td>\n",
              "      <td>Other</td>\n",
              "      <td>USA</td>\n",
              "      <td>Early</td>\n",
              "      <td>chevrolet</td>\n",
              "    </tr>\n",
              "    <tr>\n",
              "      <th>1</th>\n",
              "      <td>buick skylark 320</td>\n",
              "      <td>USA</td>\n",
              "      <td>15.0</td>\n",
              "      <td>8</td>\n",
              "      <td>350.0</td>\n",
              "      <td>165.0</td>\n",
              "      <td>3693</td>\n",
              "      <td>11.5</td>\n",
              "      <td>70</td>\n",
              "      <td>Other</td>\n",
              "      <td>USA</td>\n",
              "      <td>Early</td>\n",
              "      <td>buick</td>\n",
              "    </tr>\n",
              "    <tr>\n",
              "      <th>2</th>\n",
              "      <td>plymouth satellite</td>\n",
              "      <td>USA</td>\n",
              "      <td>18.0</td>\n",
              "      <td>8</td>\n",
              "      <td>318.0</td>\n",
              "      <td>150.0</td>\n",
              "      <td>3436</td>\n",
              "      <td>11.0</td>\n",
              "      <td>70</td>\n",
              "      <td>Other</td>\n",
              "      <td>USA</td>\n",
              "      <td>Early</td>\n",
              "      <td>plymouth</td>\n",
              "    </tr>\n",
              "    <tr>\n",
              "      <th>3</th>\n",
              "      <td>amc rebel sst</td>\n",
              "      <td>USA</td>\n",
              "      <td>16.0</td>\n",
              "      <td>8</td>\n",
              "      <td>304.0</td>\n",
              "      <td>150.0</td>\n",
              "      <td>3433</td>\n",
              "      <td>12.0</td>\n",
              "      <td>70</td>\n",
              "      <td>Other</td>\n",
              "      <td>USA</td>\n",
              "      <td>Early</td>\n",
              "      <td>amc</td>\n",
              "    </tr>\n",
              "    <tr>\n",
              "      <th>4</th>\n",
              "      <td>ford torino</td>\n",
              "      <td>USA</td>\n",
              "      <td>17.0</td>\n",
              "      <td>8</td>\n",
              "      <td>302.0</td>\n",
              "      <td>140.0</td>\n",
              "      <td>3449</td>\n",
              "      <td>10.5</td>\n",
              "      <td>70</td>\n",
              "      <td>Other</td>\n",
              "      <td>USA</td>\n",
              "      <td>Early</td>\n",
              "      <td>ford</td>\n",
              "    </tr>\n",
              "  </tbody>\n",
              "</table>\n",
              "</div>\n",
              "      <button class=\"colab-df-convert\" onclick=\"convertToInteractive('df-cd414417-3d27-42ef-bf21-e61474ce7036')\"\n",
              "              title=\"Convert this dataframe to an interactive table.\"\n",
              "              style=\"display:none;\">\n",
              "        \n",
              "  <svg xmlns=\"http://www.w3.org/2000/svg\" height=\"24px\"viewBox=\"0 0 24 24\"\n",
              "       width=\"24px\">\n",
              "    <path d=\"M0 0h24v24H0V0z\" fill=\"none\"/>\n",
              "    <path d=\"M18.56 5.44l.94 2.06.94-2.06 2.06-.94-2.06-.94-.94-2.06-.94 2.06-2.06.94zm-11 1L8.5 8.5l.94-2.06 2.06-.94-2.06-.94L8.5 2.5l-.94 2.06-2.06.94zm10 10l.94 2.06.94-2.06 2.06-.94-2.06-.94-.94-2.06-.94 2.06-2.06.94z\"/><path d=\"M17.41 7.96l-1.37-1.37c-.4-.4-.92-.59-1.43-.59-.52 0-1.04.2-1.43.59L10.3 9.45l-7.72 7.72c-.78.78-.78 2.05 0 2.83L4 21.41c.39.39.9.59 1.41.59.51 0 1.02-.2 1.41-.59l7.78-7.78 2.81-2.81c.8-.78.8-2.07 0-2.86zM5.41 20L4 18.59l7.72-7.72 1.47 1.35L5.41 20z\"/>\n",
              "  </svg>\n",
              "      </button>\n",
              "      \n",
              "  <style>\n",
              "    .colab-df-container {\n",
              "      display:flex;\n",
              "      flex-wrap:wrap;\n",
              "      gap: 12px;\n",
              "    }\n",
              "\n",
              "    .colab-df-convert {\n",
              "      background-color: #E8F0FE;\n",
              "      border: none;\n",
              "      border-radius: 50%;\n",
              "      cursor: pointer;\n",
              "      display: none;\n",
              "      fill: #1967D2;\n",
              "      height: 32px;\n",
              "      padding: 0 0 0 0;\n",
              "      width: 32px;\n",
              "    }\n",
              "\n",
              "    .colab-df-convert:hover {\n",
              "      background-color: #E2EBFA;\n",
              "      box-shadow: 0px 1px 2px rgba(60, 64, 67, 0.3), 0px 1px 3px 1px rgba(60, 64, 67, 0.15);\n",
              "      fill: #174EA6;\n",
              "    }\n",
              "\n",
              "    [theme=dark] .colab-df-convert {\n",
              "      background-color: #3B4455;\n",
              "      fill: #D2E3FC;\n",
              "    }\n",
              "\n",
              "    [theme=dark] .colab-df-convert:hover {\n",
              "      background-color: #434B5C;\n",
              "      box-shadow: 0px 1px 3px 1px rgba(0, 0, 0, 0.15);\n",
              "      filter: drop-shadow(0px 1px 2px rgba(0, 0, 0, 0.3));\n",
              "      fill: #FFFFFF;\n",
              "    }\n",
              "  </style>\n",
              "\n",
              "      <script>\n",
              "        const buttonEl =\n",
              "          document.querySelector('#df-cd414417-3d27-42ef-bf21-e61474ce7036 button.colab-df-convert');\n",
              "        buttonEl.style.display =\n",
              "          google.colab.kernel.accessAllowed ? 'block' : 'none';\n",
              "\n",
              "        async function convertToInteractive(key) {\n",
              "          const element = document.querySelector('#df-cd414417-3d27-42ef-bf21-e61474ce7036');\n",
              "          const dataTable =\n",
              "            await google.colab.kernel.invokeFunction('convertToInteractive',\n",
              "                                                     [key], {});\n",
              "          if (!dataTable) return;\n",
              "\n",
              "          const docLinkHtml = 'Like what you see? Visit the ' +\n",
              "            '<a target=\"_blank\" href=https://colab.research.google.com/notebooks/data_table.ipynb>data table notebook</a>'\n",
              "            + ' to learn more about interactive tables.';\n",
              "          element.innerHTML = '';\n",
              "          dataTable['output_type'] = 'display_data';\n",
              "          await google.colab.output.renderOutput(dataTable, element);\n",
              "          const docLink = document.createElement('div');\n",
              "          docLink.innerHTML = docLinkHtml;\n",
              "          element.appendChild(docLink);\n",
              "        }\n",
              "      </script>\n",
              "    </div>\n",
              "  </div>\n",
              "  "
            ]
          },
          "metadata": {},
          "execution_count": 11
        }
      ]
    },
    {
      "cell_type": "markdown",
      "source": [
        "Let's clean the data and remove the columns with non-numerical values."
      ],
      "metadata": {
        "id": "-3Vd-e6oqa2X"
      }
    },
    {
      "cell_type": "code",
      "source": [
        "data.drop(['Model','Origin','Model_Year','cyl4','org','when','Mfg'], axis=1, inplace=True)\n",
        "data.head()"
      ],
      "metadata": {
        "colab": {
          "base_uri": "https://localhost:8080/",
          "height": 206
        },
        "id": "LrGZKwH5q0oh",
        "outputId": "fffe07f2-f4fc-4a7c-bf60-3d4ceb678c0a"
      },
      "execution_count": 12,
      "outputs": [
        {
          "output_type": "execute_result",
          "data": {
            "text/plain": [
              "    MPG  Cylinders  Displacement  Horsepower  Weight  Acceleration\n",
              "0  18.0          8         307.0       130.0    3504          12.0\n",
              "1  15.0          8         350.0       165.0    3693          11.5\n",
              "2  18.0          8         318.0       150.0    3436          11.0\n",
              "3  16.0          8         304.0       150.0    3433          12.0\n",
              "4  17.0          8         302.0       140.0    3449          10.5"
            ],
            "text/html": [
              "\n",
              "  <div id=\"df-18f5c72a-ea7f-4b9d-a870-757ab6bf0029\">\n",
              "    <div class=\"colab-df-container\">\n",
              "      <div>\n",
              "<style scoped>\n",
              "    .dataframe tbody tr th:only-of-type {\n",
              "        vertical-align: middle;\n",
              "    }\n",
              "\n",
              "    .dataframe tbody tr th {\n",
              "        vertical-align: top;\n",
              "    }\n",
              "\n",
              "    .dataframe thead th {\n",
              "        text-align: right;\n",
              "    }\n",
              "</style>\n",
              "<table border=\"1\" class=\"dataframe\">\n",
              "  <thead>\n",
              "    <tr style=\"text-align: right;\">\n",
              "      <th></th>\n",
              "      <th>MPG</th>\n",
              "      <th>Cylinders</th>\n",
              "      <th>Displacement</th>\n",
              "      <th>Horsepower</th>\n",
              "      <th>Weight</th>\n",
              "      <th>Acceleration</th>\n",
              "    </tr>\n",
              "  </thead>\n",
              "  <tbody>\n",
              "    <tr>\n",
              "      <th>0</th>\n",
              "      <td>18.0</td>\n",
              "      <td>8</td>\n",
              "      <td>307.0</td>\n",
              "      <td>130.0</td>\n",
              "      <td>3504</td>\n",
              "      <td>12.0</td>\n",
              "    </tr>\n",
              "    <tr>\n",
              "      <th>1</th>\n",
              "      <td>15.0</td>\n",
              "      <td>8</td>\n",
              "      <td>350.0</td>\n",
              "      <td>165.0</td>\n",
              "      <td>3693</td>\n",
              "      <td>11.5</td>\n",
              "    </tr>\n",
              "    <tr>\n",
              "      <th>2</th>\n",
              "      <td>18.0</td>\n",
              "      <td>8</td>\n",
              "      <td>318.0</td>\n",
              "      <td>150.0</td>\n",
              "      <td>3436</td>\n",
              "      <td>11.0</td>\n",
              "    </tr>\n",
              "    <tr>\n",
              "      <th>3</th>\n",
              "      <td>16.0</td>\n",
              "      <td>8</td>\n",
              "      <td>304.0</td>\n",
              "      <td>150.0</td>\n",
              "      <td>3433</td>\n",
              "      <td>12.0</td>\n",
              "    </tr>\n",
              "    <tr>\n",
              "      <th>4</th>\n",
              "      <td>17.0</td>\n",
              "      <td>8</td>\n",
              "      <td>302.0</td>\n",
              "      <td>140.0</td>\n",
              "      <td>3449</td>\n",
              "      <td>10.5</td>\n",
              "    </tr>\n",
              "  </tbody>\n",
              "</table>\n",
              "</div>\n",
              "      <button class=\"colab-df-convert\" onclick=\"convertToInteractive('df-18f5c72a-ea7f-4b9d-a870-757ab6bf0029')\"\n",
              "              title=\"Convert this dataframe to an interactive table.\"\n",
              "              style=\"display:none;\">\n",
              "        \n",
              "  <svg xmlns=\"http://www.w3.org/2000/svg\" height=\"24px\"viewBox=\"0 0 24 24\"\n",
              "       width=\"24px\">\n",
              "    <path d=\"M0 0h24v24H0V0z\" fill=\"none\"/>\n",
              "    <path d=\"M18.56 5.44l.94 2.06.94-2.06 2.06-.94-2.06-.94-.94-2.06-.94 2.06-2.06.94zm-11 1L8.5 8.5l.94-2.06 2.06-.94-2.06-.94L8.5 2.5l-.94 2.06-2.06.94zm10 10l.94 2.06.94-2.06 2.06-.94-2.06-.94-.94-2.06-.94 2.06-2.06.94z\"/><path d=\"M17.41 7.96l-1.37-1.37c-.4-.4-.92-.59-1.43-.59-.52 0-1.04.2-1.43.59L10.3 9.45l-7.72 7.72c-.78.78-.78 2.05 0 2.83L4 21.41c.39.39.9.59 1.41.59.51 0 1.02-.2 1.41-.59l7.78-7.78 2.81-2.81c.8-.78.8-2.07 0-2.86zM5.41 20L4 18.59l7.72-7.72 1.47 1.35L5.41 20z\"/>\n",
              "  </svg>\n",
              "      </button>\n",
              "      \n",
              "  <style>\n",
              "    .colab-df-container {\n",
              "      display:flex;\n",
              "      flex-wrap:wrap;\n",
              "      gap: 12px;\n",
              "    }\n",
              "\n",
              "    .colab-df-convert {\n",
              "      background-color: #E8F0FE;\n",
              "      border: none;\n",
              "      border-radius: 50%;\n",
              "      cursor: pointer;\n",
              "      display: none;\n",
              "      fill: #1967D2;\n",
              "      height: 32px;\n",
              "      padding: 0 0 0 0;\n",
              "      width: 32px;\n",
              "    }\n",
              "\n",
              "    .colab-df-convert:hover {\n",
              "      background-color: #E2EBFA;\n",
              "      box-shadow: 0px 1px 2px rgba(60, 64, 67, 0.3), 0px 1px 3px 1px rgba(60, 64, 67, 0.15);\n",
              "      fill: #174EA6;\n",
              "    }\n",
              "\n",
              "    [theme=dark] .colab-df-convert {\n",
              "      background-color: #3B4455;\n",
              "      fill: #D2E3FC;\n",
              "    }\n",
              "\n",
              "    [theme=dark] .colab-df-convert:hover {\n",
              "      background-color: #434B5C;\n",
              "      box-shadow: 0px 1px 3px 1px rgba(0, 0, 0, 0.15);\n",
              "      filter: drop-shadow(0px 1px 2px rgba(0, 0, 0, 0.3));\n",
              "      fill: #FFFFFF;\n",
              "    }\n",
              "  </style>\n",
              "\n",
              "      <script>\n",
              "        const buttonEl =\n",
              "          document.querySelector('#df-18f5c72a-ea7f-4b9d-a870-757ab6bf0029 button.colab-df-convert');\n",
              "        buttonEl.style.display =\n",
              "          google.colab.kernel.accessAllowed ? 'block' : 'none';\n",
              "\n",
              "        async function convertToInteractive(key) {\n",
              "          const element = document.querySelector('#df-18f5c72a-ea7f-4b9d-a870-757ab6bf0029');\n",
              "          const dataTable =\n",
              "            await google.colab.kernel.invokeFunction('convertToInteractive',\n",
              "                                                     [key], {});\n",
              "          if (!dataTable) return;\n",
              "\n",
              "          const docLinkHtml = 'Like what you see? Visit the ' +\n",
              "            '<a target=\"_blank\" href=https://colab.research.google.com/notebooks/data_table.ipynb>data table notebook</a>'\n",
              "            + ' to learn more about interactive tables.';\n",
              "          element.innerHTML = '';\n",
              "          dataTable['output_type'] = 'display_data';\n",
              "          await google.colab.output.renderOutput(dataTable, element);\n",
              "          const docLink = document.createElement('div');\n",
              "          docLink.innerHTML = docLinkHtml;\n",
              "          element.appendChild(docLink);\n",
              "        }\n",
              "      </script>\n",
              "    </div>\n",
              "  </div>\n",
              "  "
            ]
          },
          "metadata": {},
          "execution_count": 12
        }
      ]
    },
    {
      "cell_type": "markdown",
      "source": [
        "We rearrange the columns."
      ],
      "metadata": {
        "id": "IIeP3Wpd1OaO"
      }
    },
    {
      "cell_type": "code",
      "source": [
        "cols = ['Acceleration','Cylinders','Displacement','Horsepower','Weight','MPG']\n",
        "data = data[cols]\n",
        "data.head()"
      ],
      "metadata": {
        "colab": {
          "base_uri": "https://localhost:8080/",
          "height": 206
        },
        "id": "IAL6W9PN1Ti7",
        "outputId": "467c632b-b583-450d-b14e-b4bf462cb8d8"
      },
      "execution_count": 13,
      "outputs": [
        {
          "output_type": "execute_result",
          "data": {
            "text/plain": [
              "   Acceleration  Cylinders  Displacement  Horsepower  Weight   MPG\n",
              "0          12.0          8         307.0       130.0    3504  18.0\n",
              "1          11.5          8         350.0       165.0    3693  15.0\n",
              "2          11.0          8         318.0       150.0    3436  18.0\n",
              "3          12.0          8         304.0       150.0    3433  16.0\n",
              "4          10.5          8         302.0       140.0    3449  17.0"
            ],
            "text/html": [
              "\n",
              "  <div id=\"df-f209baa6-1b46-4f91-84b6-6183eff0a97f\">\n",
              "    <div class=\"colab-df-container\">\n",
              "      <div>\n",
              "<style scoped>\n",
              "    .dataframe tbody tr th:only-of-type {\n",
              "        vertical-align: middle;\n",
              "    }\n",
              "\n",
              "    .dataframe tbody tr th {\n",
              "        vertical-align: top;\n",
              "    }\n",
              "\n",
              "    .dataframe thead th {\n",
              "        text-align: right;\n",
              "    }\n",
              "</style>\n",
              "<table border=\"1\" class=\"dataframe\">\n",
              "  <thead>\n",
              "    <tr style=\"text-align: right;\">\n",
              "      <th></th>\n",
              "      <th>Acceleration</th>\n",
              "      <th>Cylinders</th>\n",
              "      <th>Displacement</th>\n",
              "      <th>Horsepower</th>\n",
              "      <th>Weight</th>\n",
              "      <th>MPG</th>\n",
              "    </tr>\n",
              "  </thead>\n",
              "  <tbody>\n",
              "    <tr>\n",
              "      <th>0</th>\n",
              "      <td>12.0</td>\n",
              "      <td>8</td>\n",
              "      <td>307.0</td>\n",
              "      <td>130.0</td>\n",
              "      <td>3504</td>\n",
              "      <td>18.0</td>\n",
              "    </tr>\n",
              "    <tr>\n",
              "      <th>1</th>\n",
              "      <td>11.5</td>\n",
              "      <td>8</td>\n",
              "      <td>350.0</td>\n",
              "      <td>165.0</td>\n",
              "      <td>3693</td>\n",
              "      <td>15.0</td>\n",
              "    </tr>\n",
              "    <tr>\n",
              "      <th>2</th>\n",
              "      <td>11.0</td>\n",
              "      <td>8</td>\n",
              "      <td>318.0</td>\n",
              "      <td>150.0</td>\n",
              "      <td>3436</td>\n",
              "      <td>18.0</td>\n",
              "    </tr>\n",
              "    <tr>\n",
              "      <th>3</th>\n",
              "      <td>12.0</td>\n",
              "      <td>8</td>\n",
              "      <td>304.0</td>\n",
              "      <td>150.0</td>\n",
              "      <td>3433</td>\n",
              "      <td>16.0</td>\n",
              "    </tr>\n",
              "    <tr>\n",
              "      <th>4</th>\n",
              "      <td>10.5</td>\n",
              "      <td>8</td>\n",
              "      <td>302.0</td>\n",
              "      <td>140.0</td>\n",
              "      <td>3449</td>\n",
              "      <td>17.0</td>\n",
              "    </tr>\n",
              "  </tbody>\n",
              "</table>\n",
              "</div>\n",
              "      <button class=\"colab-df-convert\" onclick=\"convertToInteractive('df-f209baa6-1b46-4f91-84b6-6183eff0a97f')\"\n",
              "              title=\"Convert this dataframe to an interactive table.\"\n",
              "              style=\"display:none;\">\n",
              "        \n",
              "  <svg xmlns=\"http://www.w3.org/2000/svg\" height=\"24px\"viewBox=\"0 0 24 24\"\n",
              "       width=\"24px\">\n",
              "    <path d=\"M0 0h24v24H0V0z\" fill=\"none\"/>\n",
              "    <path d=\"M18.56 5.44l.94 2.06.94-2.06 2.06-.94-2.06-.94-.94-2.06-.94 2.06-2.06.94zm-11 1L8.5 8.5l.94-2.06 2.06-.94-2.06-.94L8.5 2.5l-.94 2.06-2.06.94zm10 10l.94 2.06.94-2.06 2.06-.94-2.06-.94-.94-2.06-.94 2.06-2.06.94z\"/><path d=\"M17.41 7.96l-1.37-1.37c-.4-.4-.92-.59-1.43-.59-.52 0-1.04.2-1.43.59L10.3 9.45l-7.72 7.72c-.78.78-.78 2.05 0 2.83L4 21.41c.39.39.9.59 1.41.59.51 0 1.02-.2 1.41-.59l7.78-7.78 2.81-2.81c.8-.78.8-2.07 0-2.86zM5.41 20L4 18.59l7.72-7.72 1.47 1.35L5.41 20z\"/>\n",
              "  </svg>\n",
              "      </button>\n",
              "      \n",
              "  <style>\n",
              "    .colab-df-container {\n",
              "      display:flex;\n",
              "      flex-wrap:wrap;\n",
              "      gap: 12px;\n",
              "    }\n",
              "\n",
              "    .colab-df-convert {\n",
              "      background-color: #E8F0FE;\n",
              "      border: none;\n",
              "      border-radius: 50%;\n",
              "      cursor: pointer;\n",
              "      display: none;\n",
              "      fill: #1967D2;\n",
              "      height: 32px;\n",
              "      padding: 0 0 0 0;\n",
              "      width: 32px;\n",
              "    }\n",
              "\n",
              "    .colab-df-convert:hover {\n",
              "      background-color: #E2EBFA;\n",
              "      box-shadow: 0px 1px 2px rgba(60, 64, 67, 0.3), 0px 1px 3px 1px rgba(60, 64, 67, 0.15);\n",
              "      fill: #174EA6;\n",
              "    }\n",
              "\n",
              "    [theme=dark] .colab-df-convert {\n",
              "      background-color: #3B4455;\n",
              "      fill: #D2E3FC;\n",
              "    }\n",
              "\n",
              "    [theme=dark] .colab-df-convert:hover {\n",
              "      background-color: #434B5C;\n",
              "      box-shadow: 0px 1px 3px 1px rgba(0, 0, 0, 0.15);\n",
              "      filter: drop-shadow(0px 1px 2px rgba(0, 0, 0, 0.3));\n",
              "      fill: #FFFFFF;\n",
              "    }\n",
              "  </style>\n",
              "\n",
              "      <script>\n",
              "        const buttonEl =\n",
              "          document.querySelector('#df-f209baa6-1b46-4f91-84b6-6183eff0a97f button.colab-df-convert');\n",
              "        buttonEl.style.display =\n",
              "          google.colab.kernel.accessAllowed ? 'block' : 'none';\n",
              "\n",
              "        async function convertToInteractive(key) {\n",
              "          const element = document.querySelector('#df-f209baa6-1b46-4f91-84b6-6183eff0a97f');\n",
              "          const dataTable =\n",
              "            await google.colab.kernel.invokeFunction('convertToInteractive',\n",
              "                                                     [key], {});\n",
              "          if (!dataTable) return;\n",
              "\n",
              "          const docLinkHtml = 'Like what you see? Visit the ' +\n",
              "            '<a target=\"_blank\" href=https://colab.research.google.com/notebooks/data_table.ipynb>data table notebook</a>'\n",
              "            + ' to learn more about interactive tables.';\n",
              "          element.innerHTML = '';\n",
              "          dataTable['output_type'] = 'display_data';\n",
              "          await google.colab.output.renderOutput(dataTable, element);\n",
              "          const docLink = document.createElement('div');\n",
              "          docLink.innerHTML = docLinkHtml;\n",
              "          element.appendChild(docLink);\n",
              "        }\n",
              "      </script>\n",
              "    </div>\n",
              "  </div>\n",
              "  "
            ]
          },
          "metadata": {},
          "execution_count": 13
        }
      ]
    },
    {
      "cell_type": "markdown",
      "source": [
        "Now, let's remove rows with values of NaN. We also determine the number of rows and columns of the data set and assign these numbers to variables $m$ and $n$, respectively."
      ],
      "metadata": {
        "id": "nPZJsY8KzA0H"
      }
    },
    {
      "cell_type": "code",
      "source": [
        "data = data.dropna().reset_index(drop=True)\n",
        "[m,n] = data.shape"
      ],
      "metadata": {
        "id": "qJNMPbbZzHp2"
      },
      "execution_count": 14,
      "outputs": []
    },
    {
      "cell_type": "markdown",
      "source": [
        "Plot the MPG agains the 5 features."
      ],
      "metadata": {
        "id": "jIwjQlkL0e5Z"
      }
    },
    {
      "cell_type": "code",
      "source": [
        "fig, axs = plt.subplots(1,5,figsize=(20,4))\n",
        "\n",
        "axs[0].plot(data.Acceleration,data.MPG,'o')\n",
        "axs[0].set_xlabel('Acceleration')\n",
        "axs[0].set_ylabel('MPG')\n",
        "\n",
        "axs[1].plot(data.Cylinders,data.MPG,'o')\n",
        "axs[1].set_xlabel('Cylinders')\n",
        "axs[1].set_ylabel('MPG')\n",
        "\n",
        "axs[2].plot(data.Displacement,data.MPG,'o')\n",
        "axs[2].set_xlabel('Displacement')\n",
        "axs[2].set_ylabel('MPG')\n",
        "\n",
        "axs[3].plot(data.Horsepower,data.MPG,'o')\n",
        "axs[3].set_xlabel('Horsepower')\n",
        "axs[3].set_ylabel('MPG')\n",
        "\n",
        "axs[4].plot(data.Weight,data.MPG,'o')\n",
        "axs[4].set_xlabel('Weight')\n",
        "axs[4].set_ylabel('MPG')"
      ],
      "metadata": {
        "colab": {
          "base_uri": "https://localhost:8080/",
          "height": 296
        },
        "id": "5gq8YCms0plP",
        "outputId": "cdd55c45-d917-42b4-934c-67b5fd0b0442"
      },
      "execution_count": 15,
      "outputs": [
        {
          "output_type": "execute_result",
          "data": {
            "text/plain": [
              "Text(0, 0.5, 'MPG')"
            ]
          },
          "metadata": {},
          "execution_count": 15
        },
        {
          "output_type": "display_data",
          "data": {
            "text/plain": [
              "<Figure size 1440x288 with 5 Axes>"
            ],
            "image/png": "[encoded data removed]"
          },
          "metadata": {
            "needs_background": "light"
          }
        }
      ]
    },
    {
      "cell_type": "markdown",
      "source": [
        "####**2.4.4 Feature Scaling**"
      ],
      "metadata": {
        "id": "tXmwfBwHNqGj"
      }
    },
    {
      "cell_type": "code",
      "source": [
        "columns = ['Acceleration','Cylinders','Displacement','Horsepower','Weight']\n",
        "data[columns] = data[columns].apply(FeatureScale)\n",
        "print(data)"
      ],
      "metadata": {
        "colab": {
          "base_uri": "https://localhost:8080/"
        },
        "id": "lqbDxbRpN08l",
        "outputId": "a73cca83-c936-4bae-a3f2-104018fc5ca4"
      },
      "execution_count": 16,
      "outputs": [
        {
          "output_type": "stream",
          "name": "stdout",
          "text": [
            "     Acceleration  Cylinders  Displacement  Horsepower    Weight   MPG\n",
            "0       -1.285258   1.483947      1.077290    0.664133  0.620540  18.0\n",
            "1       -1.466724   1.483947      1.488732    1.574594  0.843334  15.0\n",
            "2       -1.648189   1.483947      1.182542    1.184397  0.540382  18.0\n",
            "3       -1.285258   1.483947      1.048584    1.184397  0.536845  16.0\n",
            "4       -1.829655   1.483947      1.029447    0.924265  0.555706  17.0\n",
            "..            ...        ...           ...         ...       ...   ...\n",
            "387      0.021294  -0.864014     -0.520637   -0.480448 -0.221125  27.0\n",
            "388      3.287676  -0.864014     -0.932079   -1.364896 -0.999134  44.0\n",
            "389     -1.430430  -0.864014     -0.568479   -0.532474 -0.804632  32.0\n",
            "390      1.110088  -0.864014     -0.712005   -0.662540 -0.415627  28.0\n",
            "391      1.400433  -0.864014     -0.721574   -0.584501 -0.303641  31.0\n",
            "\n",
            "[392 rows x 6 columns]\n"
          ]
        }
      ]
    },
    {
      "cell_type": "markdown",
      "source": [
        "####**2.4.5 Adding the bias column**"
      ],
      "metadata": {
        "id": "Bb4Kno2cN1mu"
      }
    },
    {
      "cell_type": "markdown",
      "source": [
        "Let's add the column corresponding to the coefficient of $\\theta_0$. We'll call this column the Bias column, for reasons that will be obvious later when we discuss neural networks. The values of this column, $x_0$, are all ones. It needs to have the same number of rows as the variable cars_clean_data. "
      ],
      "metadata": {
        "id": "vAE5OsOM8STZ"
      }
    },
    {
      "cell_type": "code",
      "source": [
        "data.insert(loc=0,column='Bias',value=1)\n",
        "print(data)"
      ],
      "metadata": {
        "colab": {
          "base_uri": "https://localhost:8080/"
        },
        "id": "GJInN1hv8rmk",
        "outputId": "d4717bd4-3598-4243-c38d-2cf565f6f225"
      },
      "execution_count": 17,
      "outputs": [
        {
          "output_type": "stream",
          "name": "stdout",
          "text": [
            "     Bias  Acceleration  Cylinders  Displacement  Horsepower    Weight   MPG\n",
            "0       1     -1.285258   1.483947      1.077290    0.664133  0.620540  18.0\n",
            "1       1     -1.466724   1.483947      1.488732    1.574594  0.843334  15.0\n",
            "2       1     -1.648189   1.483947      1.182542    1.184397  0.540382  18.0\n",
            "3       1     -1.285258   1.483947      1.048584    1.184397  0.536845  16.0\n",
            "4       1     -1.829655   1.483947      1.029447    0.924265  0.555706  17.0\n",
            "..    ...           ...        ...           ...         ...       ...   ...\n",
            "387     1      0.021294  -0.864014     -0.520637   -0.480448 -0.221125  27.0\n",
            "388     1      3.287676  -0.864014     -0.932079   -1.364896 -0.999134  44.0\n",
            "389     1     -1.430430  -0.864014     -0.568479   -0.532474 -0.804632  32.0\n",
            "390     1      1.110088  -0.864014     -0.712005   -0.662540 -0.415627  28.0\n",
            "391     1      1.400433  -0.864014     -0.721574   -0.584501 -0.303641  31.0\n",
            "\n",
            "[392 rows x 7 columns]\n"
          ]
        }
      ]
    },
    {
      "cell_type": "markdown",
      "source": [
        "####**2.4.6 Implementation of the Gradient Descent Method**"
      ],
      "metadata": {
        "id": "LFd1sLGfL-rU"
      }
    },
    {
      "cell_type": "markdown",
      "source": [
        "We now define an inital value for the parameter, $\\theta$. We also set the first six columns as the input data set and the last column as the expected output. Furthermore, let's define the options for the gradient descent, i.e. the learning rate and the number of epochs.<br>\n",
        "Let's run the function $gradient\\_descent$. This function first solves for the gradient based on the parameter, $\\theta$, and then uses this gradient to obtain new values of the $\\theta$. It does this for several epochs. The final value of  after all epochs is assigned to the variable $opt\\_theta$ and displayed. Finally, the cost function per epoch is also displayed."
      ],
      "metadata": {
        "id": "FOHNN7-PdOmD"
      }
    },
    {
      "cell_type": "code",
      "source": [
        "theta = np.array([[20],[1],[-1],[2],[3],[0.1]])\n",
        "X = data[data.columns[0:6]].to_numpy()\n",
        "y = data[data.columns[6:]].to_numpy()\n",
        "epochs = 5000\n",
        "learning_rate = np.array([0.001])\n",
        "\n",
        "[opt_theta,Jcost] = gradient_descent(X,y,theta,learning_rate,epochs)\n",
        "print(opt_theta)"
      ],
      "metadata": {
        "colab": {
          "base_uri": "https://localhost:8080/"
        },
        "id": "z7bFMPHR7f07",
        "outputId": "0969707e-1b0a-4769-c88e-c9429141c2bb"
      },
      "execution_count": 18,
      "outputs": [
        {
          "output_type": "stream",
          "name": "stdout",
          "text": [
            "[[-0.02318359]\n",
            " [ 0.09034734]\n",
            " [-0.19530804]\n",
            " [-0.04469356]\n",
            " [ 0.18389666]\n",
            " [ 0.12106275]]\n"
          ]
        }
      ]
    },
    {
      "cell_type": "code",
      "source": [
        "plt.plot(Jcost)"
      ],
      "metadata": {
        "colab": {
          "base_uri": "https://localhost:8080/",
          "height": 282
        },
        "id": "D_EGwLdEK9ku",
        "outputId": "95b1c0b9-43b1-46bb-d654-cb8ae4f4b07e"
      },
      "execution_count": 19,
      "outputs": [
        {
          "output_type": "execute_result",
          "data": {
            "text/plain": [
              "[<matplotlib.lines.Line2D at 0x7f4611926d00>]"
            ]
          },
          "metadata": {},
          "execution_count": 19
        },
        {
          "output_type": "display_data",
          "data": {
            "text/plain": [
              "<Figure size 432x288 with 1 Axes>"
            ],
            "image/png": "[encoded data removed]"
          },
          "metadata": {
            "needs_background": "light"
          }
        }
      ]
    },
    {
      "cell_type": "markdown",
      "source": [
        "####**2.4.7 Expected Result**"
      ],
      "metadata": {
        "id": "nvwNB5RtOIKb"
      }
    },
    {
      "cell_type": "markdown",
      "source": [
        "We solve for the expected result for $\\theta$ using the $LinearRegression$ function from the $sklearn module$."
      ],
      "metadata": {
        "id": "qljxHh-pd_6f"
      }
    },
    {
      "cell_type": "code",
      "source": [
        "model = linear_model.LinearRegression()\n",
        "model.fit(X,y)\n",
        "print(model.intercept_)\n",
        "print(model.coef_)"
      ],
      "metadata": {
        "colab": {
          "base_uri": "https://localhost:8080/"
        },
        "id": "z0nQV8NJON_E",
        "outputId": "05aeaae9-b2e2-49c5-ea5a-5a1df9c3f66d"
      },
      "execution_count": 20,
      "outputs": [
        {
          "output_type": "stream",
          "name": "stdout",
          "text": [
            "[23.44591837]\n",
            "[[ 0.         -0.08019347 -0.67791319 -0.00868797 -1.73977416 -4.40015767]]\n"
          ]
        }
      ]
    },
    {
      "cell_type": "markdown",
      "source": [
        "####**2.4.8 Implementation using Machine Learning**"
      ],
      "metadata": {
        "id": "-ANhRAFFiZ1c"
      }
    },
    {
      "cell_type": "code",
      "source": [
        "from keras.models import Sequential\n",
        "from keras.layers import Dense\n",
        "\n",
        "# create model\n",
        "model = Sequential()\n",
        "model.add(Dense(128, activation=\"tanh\", input_dim=6, kernel_initializer=\"uniform\"))\n",
        "model.add(Dense(64, activation=\"tanh\"))\n",
        "model.add(Dense(1, activation=\"linear\", kernel_initializer=\"uniform\"))\n",
        "\n",
        "# Compile model\n",
        "model.compile(loss='mse', optimizer='adam', metrics=['accuracy'])\n",
        "\n",
        "# Fit the model\n",
        "history = model.fit(X, y, epochs=100, batch_size=10,  verbose=0)\n",
        "\n",
        "plt.plot(history.history['loss'])"
      ],
      "metadata": {
        "id": "vfzrDKv6YrCj"
      },
      "execution_count": null,
      "outputs": []
    }
  ]
}