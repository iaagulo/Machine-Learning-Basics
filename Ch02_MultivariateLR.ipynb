{
  "nbformat": 4,
  "nbformat_minor": 0,
  "metadata": {
    "colab": {
      "provenance": [],
      "collapsed_sections": [
        "V5bg3t7Fo1KK",
        "DdptsfX-ogjG",
        "_xf4gsFeNRN0",
        "dw23W2oKNY7f",
        "UL6cRnaANghG",
        "tXmwfBwHNqGj",
        "Bb4Kno2cN1mu",
        "LFd1sLGfL-rU",
        "nvwNB5RtOIKb",
        "-ANhRAFFiZ1c"
      ],
      "authorship_tag": "ABX9TyNkIkQe7h+/d2rZYyjzZs8S",
      "include_colab_link": true
    },
    "kernelspec": {
      "name": "python3",
      "display_name": "Python 3"
    },
    "language_info": {
      "name": "python"
    }
  },
  "cells": [
    {
      "cell_type": "markdown",
      "metadata": {
        "id": "view-in-github",
        "colab_type": "text"
      },
      "source": [
        "<a href=\"https://colab.research.google.com/github/iaagulo/Machine-Learning-Basics/blob/main/Ch02_MultivariateLR.ipynb\" target=\"_parent\"><img src=\"https://colab.research.google.com/assets/colab-badge.svg\" alt=\"Open In Colab\"/></a>"
      ]
    },
    {
      "cell_type": "markdown",
      "source": [
        "#**2.0 Gradient Descent**"
      ],
      "metadata": {
        "id": "0X-yd0G9oatf"
      }
    },
    {
      "cell_type": "markdown",
      "source": [
        "##**2.5 Functions to be used for this chapter**"
      ],
      "metadata": {
        "id": "V5bg3t7Fo1KK"
      }
    },
    {
      "cell_type": "markdown",
      "source": [
        "This function computes for the cost function, $J(\\theta_0,\\theta_1,...,\\theta_n)$ with $x$, $y$, and $\\theta$ as input variables and $Jcost$ as the output variable."
      ],
      "metadata": {
        "id": "4hy2VMIqLTSN"
      }
    },
    {
      "cell_type": "code",
      "source": [
        "def costfunction(x,y,theta):\n",
        "  m = len(y)\n",
        "  Jcost = (1/(2*m))*np.sum(np.power((np.dot(x,theta)-y.reshape(m,1)),2))\n",
        "  return Jcost"
      ],
      "metadata": {
        "id": "7a_qN-MFofP4"
      },
      "execution_count": 2,
      "outputs": []
    },
    {
      "cell_type": "markdown",
      "source": [
        "This function computes for the new values of the parameter $\\theta$ using the gradient descent method."
      ],
      "metadata": {
        "id": "qF9COZfnLnW_"
      }
    },
    {
      "cell_type": "code",
      "source": [
        "def gradient_descent(x,y,theta,a,epoch):\n",
        "  J = np.zeros(epochs,dtype=float)\n",
        "  m = len(y)\n",
        "  for k in range(epoch):\n",
        "    grad_theta = (1/m)*np.dot(np.transpose(x),((np.dot(x,theta)-y.reshape(m,1))))\n",
        "    theta = theta - a*grad_theta\n",
        "    J[k] = costfunction(x,y,theta)\n",
        "  return grad_theta,J"
      ],
      "metadata": {
        "id": "6AC0rkdfZcml"
      },
      "execution_count": 3,
      "outputs": []
    },
    {
      "cell_type": "markdown",
      "source": [
        "This function rescales the elements of the data set."
      ],
      "metadata": {
        "id": "O80MR0RAPeYD"
      }
    },
    {
      "cell_type": "code",
      "source": [
        "def FeatureScale(X):\n",
        "  Xmean = np.mean(X)\n",
        "  Xstd = np.std(X)\n",
        "  Xfeat = (X - Xmean)/Xstd\n",
        "  return Xfeat"
      ],
      "metadata": {
        "id": "dgif_zETPivu"
      },
      "execution_count": 4,
      "outputs": []
    },
    {
      "cell_type": "markdown",
      "source": [
        "##**2.4 Multivariate Linear Regression**"
      ],
      "metadata": {
        "id": "DdptsfX-ogjG"
      }
    },
    {
      "cell_type": "markdown",
      "source": [
        "####**2.4.1 Importing the modules**"
      ],
      "metadata": {
        "id": "_xf4gsFeNRN0"
      }
    },
    {
      "cell_type": "markdown",
      "source": [
        "We first import the necessary modules."
      ],
      "metadata": {
        "id": "toRpM_nmNKzX"
      }
    },
    {
      "cell_type": "code",
      "source": [
        "import numpy as np\n",
        "import matplotlib.pyplot as plt\n",
        "\n",
        "import pandas as pd\n",
        "\n",
        "from sklearn import linear_model"
      ],
      "metadata": {
        "id": "yP6Uod45eaiV"
      },
      "execution_count": 5,
      "outputs": []
    },
    {
      "cell_type": "markdown",
      "source": [
        "####**2.4.2 Importing the Data**"
      ],
      "metadata": {
        "id": "dw23W2oKNY7f"
      }
    },
    {
      "cell_type": "markdown",
      "source": [
        "The data that we need is stored in the Google Drive. So, we need to allow Google Colab to access the data."
      ],
      "metadata": {
        "id": "NGKjPCR3ea0s"
      }
    },
    {
      "cell_type": "code",
      "source": [
        "from google.colab import drive\n",
        "drive.mount('/content/gdrive/', force_remount=True)"
      ],
      "metadata": {
        "id": "9KCoMkjybXCv"
      },
      "execution_count": null,
      "outputs": []
    },
    {
      "cell_type": "code",
      "source": [
        "ls"
      ],
      "metadata": {
        "id": "RcmnXeDubhZx"
      },
      "execution_count": null,
      "outputs": []
    },
    {
      "cell_type": "code",
      "source": [
        "cd gdrive/MyDrive/'Colab Notebooks'/Book"
      ],
      "metadata": {
        "id": "SX4d4OPHbkZv"
      },
      "execution_count": null,
      "outputs": []
    },
    {
      "cell_type": "code",
      "source": [
        "ls"
      ],
      "metadata": {
        "id": "pjK8uKfHbmog"
      },
      "execution_count": null,
      "outputs": []
    },
    {
      "cell_type": "markdown",
      "source": [
        "####**2.4.3 Removal of non-numerical elements**"
      ],
      "metadata": {
        "id": "UL6cRnaANghG"
      }
    },
    {
      "cell_type": "markdown",
      "source": [
        "We now read the data using the pandas module."
      ],
      "metadata": {
        "id": "AL5PIOo_eJZ-"
      }
    },
    {
      "cell_type": "code",
      "source": [
        " data = pd.read_csv('carbig.csv', index_col=None)"
      ],
      "metadata": {
        "id": "7JqLMNQ9b_-6"
      },
      "execution_count": 10,
      "outputs": []
    },
    {
      "cell_type": "markdown",
      "source": [
        "The data shown describes how the miles per gallon (MPG) relates to the various characteristics of a car, such as the number of cylinders, the displacement (cubic in.), the horsepower, the weight (lbs.), and the acceleration (from 0 to 60 mph in seconds). Thus, each of these characteristics are the independent variable and the MPG is the dependent variable. We now have a data set with multiple features, and these five features dictate how the car performance in terms of MPG is.<br>\n",
        "This command displays the first five rows of the data set."
      ],
      "metadata": {
        "id": "54a7Uv5Fp8vt"
      }
    },
    {
      "cell_type": "code",
      "source": [
        " data.head()"
      ],
      "metadata": {
        "id": "ZkH7AyPxqB9O"
      },
      "execution_count": null,
      "outputs": []
    },
    {
      "cell_type": "markdown",
      "source": [
        "Let's clean the data and remove the columns with non-numerical values."
      ],
      "metadata": {
        "id": "-3Vd-e6oqa2X"
      }
    },
    {
      "cell_type": "code",
      "source": [
        "data.drop(['Model','Origin','Model_Year','cyl4','org','when','Mfg'], axis=1, inplace=True)\n",
        "data.head()"
      ],
      "metadata": {
        "id": "LrGZKwH5q0oh"
      },
      "execution_count": null,
      "outputs": []
    },
    {
      "cell_type": "markdown",
      "source": [
        "We rearrange the columns."
      ],
      "metadata": {
        "id": "IIeP3Wpd1OaO"
      }
    },
    {
      "cell_type": "code",
      "source": [
        "cols = ['Acceleration','Cylinders','Displacement','Horsepower','Weight','MPG']\n",
        "data = data[cols]\n",
        "data.head()"
      ],
      "metadata": {
        "id": "IAL6W9PN1Ti7"
      },
      "execution_count": null,
      "outputs": []
    },
    {
      "cell_type": "markdown",
      "source": [
        "Now, let's remove rows with values of NaN. We also determine the number of rows and columns of the data set and assign these numbers to variables $m$ and $n$, respectively."
      ],
      "metadata": {
        "id": "nPZJsY8KzA0H"
      }
    },
    {
      "cell_type": "code",
      "source": [
        "data = data.dropna().reset_index(drop=True)\n",
        "[m,n] = data.shape"
      ],
      "metadata": {
        "id": "qJNMPbbZzHp2"
      },
      "execution_count": 14,
      "outputs": []
    },
    {
      "cell_type": "markdown",
      "source": [
        "Plot the MPG agains the 5 features."
      ],
      "metadata": {
        "id": "jIwjQlkL0e5Z"
      }
    },
    {
      "cell_type": "code",
      "source": [
        "fig, axs = plt.subplots(1,5,figsize=(20,4))\n",
        "\n",
        "axs[0].plot(data.Acceleration,data.MPG,'o')\n",
        "axs[0].set_xlabel('Acceleration')\n",
        "axs[0].set_ylabel('MPG')\n",
        "\n",
        "axs[1].plot(data.Cylinders,data.MPG,'o')\n",
        "axs[1].set_xlabel('Cylinders')\n",
        "axs[1].set_ylabel('MPG')\n",
        "\n",
        "axs[2].plot(data.Displacement,data.MPG,'o')\n",
        "axs[2].set_xlabel('Displacement')\n",
        "axs[2].set_ylabel('MPG')\n",
        "\n",
        "axs[3].plot(data.Horsepower,data.MPG,'o')\n",
        "axs[3].set_xlabel('Horsepower')\n",
        "axs[3].set_ylabel('MPG')\n",
        "\n",
        "axs[4].plot(data.Weight,data.MPG,'o')\n",
        "axs[4].set_xlabel('Weight')\n",
        "axs[4].set_ylabel('MPG')"
      ],
      "metadata": {
        "id": "5gq8YCms0plP"
      },
      "execution_count": null,
      "outputs": []
    },
    {
      "cell_type": "markdown",
      "source": [
        "####**2.4.4 Feature Scaling**"
      ],
      "metadata": {
        "id": "tXmwfBwHNqGj"
      }
    },
    {
      "cell_type": "code",
      "source": [
        "columns = ['Acceleration','Cylinders','Displacement','Horsepower','Weight']\n",
        "data[columns] = data[columns].apply(FeatureScale)\n",
        "print(data)"
      ],
      "metadata": {
        "id": "lqbDxbRpN08l"
      },
      "execution_count": null,
      "outputs": []
    },
    {
      "cell_type": "markdown",
      "source": [
        "####**2.4.5 Adding the bias column**"
      ],
      "metadata": {
        "id": "Bb4Kno2cN1mu"
      }
    },
    {
      "cell_type": "markdown",
      "source": [
        "Let's add the column corresponding to the coefficient of $\\theta_0$. We'll call this column the Bias column, for reasons that will be obvious later when we discuss neural networks. The values of this column, $x_0$, are all ones. It needs to have the same number of rows as the variable cars_clean_data. "
      ],
      "metadata": {
        "id": "vAE5OsOM8STZ"
      }
    },
    {
      "cell_type": "code",
      "source": [
        "data.insert(loc=0,column='Bias',value=1)\n",
        "print(data)"
      ],
      "metadata": {
        "id": "GJInN1hv8rmk"
      },
      "execution_count": null,
      "outputs": []
    },
    {
      "cell_type": "markdown",
      "source": [
        "####**2.4.6 Implementation of the Gradient Descent Method**"
      ],
      "metadata": {
        "id": "LFd1sLGfL-rU"
      }
    },
    {
      "cell_type": "markdown",
      "source": [
        "We now define an inital value for the parameter, $\\theta$. We also set the first six columns as the input data set and the last column as the expected output. Furthermore, let's define the options for the gradient descent, i.e. the learning rate and the number of epochs.<br>\n",
        "Let's run the function $gradient\\_descent$. This function first solves for the gradient based on the parameter, $\\theta$, and then uses this gradient to obtain new values of the $\\theta$. It does this for several epochs. The final value of  after all epochs is assigned to the variable $opt\\_theta$ and displayed. Finally, the cost function per epoch is also displayed."
      ],
      "metadata": {
        "id": "FOHNN7-PdOmD"
      }
    },
    {
      "cell_type": "code",
      "source": [
        "theta = np.array([[20],[1],[-1],[2],[3],[0.1]])\n",
        "X = data[data.columns[0:6]].to_numpy()\n",
        "y = data[data.columns[6:]].to_numpy()\n",
        "epochs = 5000\n",
        "learning_rate = np.array([0.001])\n",
        "\n",
        "[opt_theta,Jcost] = gradient_descent(X,y,theta,learning_rate,epochs)\n",
        "print(opt_theta)"
      ],
      "metadata": {
        "id": "z7bFMPHR7f07"
      },
      "execution_count": null,
      "outputs": []
    },
    {
      "cell_type": "code",
      "source": [
        "plt.plot(Jcost)"
      ],
      "metadata": {
        "id": "D_EGwLdEK9ku"
      },
      "execution_count": null,
      "outputs": []
    },
    {
      "cell_type": "markdown",
      "source": [
        "####**2.4.7 Expected Result**"
      ],
      "metadata": {
        "id": "nvwNB5RtOIKb"
      }
    },
    {
      "cell_type": "markdown",
      "source": [
        "We solve for the expected result for $\\theta$ using the $LinearRegression$ function from the $sklearn module$."
      ],
      "metadata": {
        "id": "qljxHh-pd_6f"
      }
    },
    {
      "cell_type": "code",
      "source": [
        "model = linear_model.LinearRegression()\n",
        "model.fit(X,y)\n",
        "print(model.intercept_)\n",
        "print(model.coef_)"
      ],
      "metadata": {
        "id": "z0nQV8NJON_E"
      },
      "execution_count": null,
      "outputs": []
    },
    {
      "cell_type": "markdown",
      "source": [
        "####**2.4.8 Implementation using Machine Learning**"
      ],
      "metadata": {
        "id": "-ANhRAFFiZ1c"
      }
    },
    {
      "cell_type": "code",
      "source": [
        "from keras.models import Sequential\n",
        "from keras.layers import Dense\n",
        "\n",
        "# create model\n",
        "model = Sequential()\n",
        "model.add(Dense(128, activation=\"tanh\", input_dim=6, kernel_initializer=\"uniform\"))\n",
        "model.add(Dense(64, activation=\"tanh\"))\n",
        "model.add(Dense(1, activation=\"linear\", kernel_initializer=\"uniform\"))\n",
        "\n",
        "# Compile model\n",
        "model.compile(loss='mse', optimizer='adam', metrics=['accuracy'])\n",
        "\n",
        "# Fit the model\n",
        "history = model.fit(X, y, epochs=100, batch_size=10,  verbose=0)\n",
        "\n",
        "plt.plot(history.history['loss'])"
      ],
      "metadata": {
        "id": "vfzrDKv6YrCj"
      },
      "execution_count": null,
      "outputs": []
    }
  ]
}